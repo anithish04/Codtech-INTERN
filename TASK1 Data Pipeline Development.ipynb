{
 "cells": [
  {
   "cell_type": "code",
   "execution_count": 3,
   "id": "9c4d9258-fe18-4ef2-a0ed-0d56bb6712cf",
   "metadata": {},
   "outputs": [
    {
     "name": "stdout",
     "output_type": "stream",
     "text": [
      "Extracting data...\n",
      "Transforming data...\n",
      "Loading data...\n",
      "Processed data saved to: processed_data.csv\n"
     ]
    }
   ],
   "source": [
    "import pandas as pd\n",
    "from sklearn.model_selection import train_test_split\n",
    "from sklearn.impute import SimpleImputer\n",
    "from sklearn.preprocessing import StandardScaler, OneHotEncoder\n",
    "from sklearn.compose import ColumnTransformer\n",
    "from sklearn.pipeline import Pipeline\n",
    "import joblib\n",
    "# Step 1: Extract\n",
    "def extract_data(filepath):\n",
    "    print(\"Extracting data...\")\n",
    "    return pd.read_csv(filepath)\n",
    "# Step 2: Transform\n",
    "def transform_data(df):\n",
    "    print(\"Transforming data...\")\n",
    "    # Identify numerical and categorical columns\n",
    "    numeric_cols = df.select_dtypes(include=['int64', 'float64']).columns\n",
    "    categorical_cols = df.select_dtypes(include=['object']).columns\n",
    "    # Define transformers\n",
    "    numeric_transformer = Pipeline(steps=[\n",
    "        ('imputer', SimpleImputer(strategy='mean')),\n",
    "        ('scaler', StandardScaler())\n",
    "    ])\n",
    "    categorical_transformer = Pipeline(steps=[\n",
    "        ('imputer', SimpleImputer(strategy='most_frequent')),\n",
    "        ('encoder', OneHotEncoder(handle_unknown='ignore'))\n",
    "    ])\n",
    "    # Combine transformers\n",
    "    preprocessor = ColumnTransformer(\n",
    "        transformers=[\n",
    "            ('num', numeric_transformer, numeric_cols),\n",
    "            ('cat', categorical_transformer, categorical_cols)\n",
    "        ])\n",
    "    # Apply transformations\n",
    "    processed_data = preprocessor.fit_transform(df)\n",
    "    # Save the preprocessor for later use\n",
    "    joblib.dump(preprocessor, 'preprocessor.joblib')\n",
    "    return processed_data\n",
    "# Step 3: Load\n",
    "def load_data(processed_data, output_path='processed_data.csv'):\n",
    "    print(\"Loading data...\")\n",
    "    # Convert to DataFrame (if sparse matrix, convert to dense first)\n",
    "    if hasattr(processed_data, \"toarray\"):\n",
    "        processed_data = processed_data.toarray()\n",
    "    pd.DataFrame(processed_data).to_csv(output_path, index=False)\n",
    "    print(f\"Processed data saved to: {output_path}\")\n",
    "# Main ETL Pipeline\n",
    "def main():\n",
    "    filepath = 'data.csv'  # <- Replace with your data file\n",
    "    df = extract_data(filepath)\n",
    "    processed_data = transform_data(df)\n",
    "    load_data(processed_data)\n",
    "if __name__ == '__main__':\n",
    "    main()"
   ]
  },
  {
   "cell_type": "code",
   "execution_count": null,
   "id": "8043110f-28eb-4660-a9de-217e25bc072f",
   "metadata": {},
   "outputs": [],
   "source": []
  }
 ],
 "metadata": {
  "kernelspec": {
   "display_name": "Python 3 (ipykernel)",
   "language": "python",
   "name": "python3"
  },
  "language_info": {
   "codemirror_mode": {
    "name": "ipython",
    "version": 3
   },
   "file_extension": ".py",
   "mimetype": "text/x-python",
   "name": "python",
   "nbconvert_exporter": "python",
   "pygments_lexer": "ipython3",
   "version": "3.12.7"
  }
 },
 "nbformat": 4,
 "nbformat_minor": 5
}
