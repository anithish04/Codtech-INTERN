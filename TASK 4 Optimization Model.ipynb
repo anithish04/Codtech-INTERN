{
 "cells": [
  {
   "cell_type": "code",
   "execution_count": 4,
   "id": "1101457a-f81c-4a32-996a-9472fe1beb2c",
   "metadata": {},
   "outputs": [
    {
     "name": "stdout",
     "output_type": "stream",
     "text": [
      "Collecting pulpNote: you may need to restart the kernel to use updated packages.\n",
      "\n",
      "  Downloading pulp-3.1.1-py3-none-any.whl.metadata (1.3 kB)\n",
      "Downloading pulp-3.1.1-py3-none-any.whl (16.4 MB)\n",
      "   ---------------------------------------- 0.0/16.4 MB ? eta -:--:--\n",
      "   ---------------------------------------- 0.0/16.4 MB ? eta -:--:--\n",
      "    --------------------------------------- 0.3/16.4 MB ? eta -:--:--\n",
      "   - -------------------------------------- 0.5/16.4 MB 2.4 MB/s eta 0:00:07\n",
      "   - -------------------------------------- 0.8/16.4 MB 1.9 MB/s eta 0:00:09\n",
      "   -- ------------------------------------- 1.0/16.4 MB 1.3 MB/s eta 0:00:12\n",
      "   --- ------------------------------------ 1.3/16.4 MB 1.3 MB/s eta 0:00:12\n",
      "   ----- ---------------------------------- 2.1/16.4 MB 1.8 MB/s eta 0:00:09\n",
      "   ------- -------------------------------- 3.1/16.4 MB 2.3 MB/s eta 0:00:06\n",
      "   ---------- ----------------------------- 4.2/16.4 MB 2.8 MB/s eta 0:00:05\n",
      "   ------------- -------------------------- 5.5/16.4 MB 3.2 MB/s eta 0:00:04\n",
      "   ---------------- ----------------------- 6.8/16.4 MB 3.6 MB/s eta 0:00:03\n",
      "   ------------------- -------------------- 8.1/16.4 MB 3.8 MB/s eta 0:00:03\n",
      "   ----------------------- ---------------- 9.4/16.4 MB 4.0 MB/s eta 0:00:02\n",
      "   ------------------------- -------------- 10.5/16.4 MB 4.1 MB/s eta 0:00:02\n",
      "   ---------------------------- ----------- 11.8/16.4 MB 4.3 MB/s eta 0:00:02\n",
      "   -------------------------------- ------- 13.1/16.4 MB 4.4 MB/s eta 0:00:01\n",
      "   ----------------------------------- ---- 14.4/16.4 MB 4.6 MB/s eta 0:00:01\n",
      "   -------------------------------------- - 15.7/16.4 MB 4.7 MB/s eta 0:00:01\n",
      "   ---------------------------------------  16.3/16.4 MB 4.7 MB/s eta 0:00:01\n",
      "   ---------------------------------------- 16.4/16.4 MB 4.5 MB/s eta 0:00:00\n",
      "Installing collected packages: pulp\n",
      "Successfully installed pulp-3.1.1\n"
     ]
    },
    {
     "name": "stderr",
     "output_type": "stream",
     "text": [
      "\n",
      "[notice] A new release of pip is available: 24.3.1 -> 25.1.1\n",
      "[notice] To update, run: python.exe -m pip install --upgrade pip\n"
     ]
    }
   ],
   "source": [
    "pip install pulp"
   ]
  },
  {
   "cell_type": "code",
   "execution_count": 10,
   "id": "0bfac6e1-1938-4e4b-b594-ee4481bb5ed5",
   "metadata": {},
   "outputs": [],
   "source": [
    "from pulp import *\n",
    "# Define problem\n",
    "model = LpProblem(\"Maximize_Profit\", LpMaximize)\n",
    "# Decision variables\n",
    "x = LpVariable(\"Product_A\", lowBound=0, cat='Continuous')\n",
    "y = LpVariable(\"Product_B\", lowBound=0, cat='Continuous')\n",
    "# Parameters\n",
    "profit_A = 20\n",
    "profit_B = 30\n",
    "machine1_time_A = 2\n",
    "machine1_time_B = 1\n",
    "machine1_available = 100\n",
    "machine2_time_A = 1\n",
    "machine2_time_B = 2\n",
    "machine2_available = 80"
   ]
  },
  {
   "cell_type": "code",
   "execution_count": 12,
   "id": "8e9a4b7e-82c9-4348-9f86-b01f70b28f5f",
   "metadata": {},
   "outputs": [],
   "source": [
    "# Objective Function\n",
    "model += profit_A * x + profit_B * y, \"Total_Profit\"\n",
    "# Constraints\n",
    "model += machine1_time_A * x + machine1_time_B * y <= machine1_available, \"Machine_1_Constraint\"\n",
    "model += machine2_time_A * x + machine2_time_B * y <= machine2_available, \"Machine_2_Constraint\""
   ]
  },
  {
   "cell_type": "code",
   "execution_count": null,
   "id": "056a5561-6af3-4f02-afef-affdcebfdedf",
   "metadata": {},
   "outputs": [],
   "source": []
  }
 ],
 "metadata": {
  "kernelspec": {
   "display_name": "Python 3 (ipykernel)",
   "language": "python",
   "name": "python3"
  },
  "language_info": {
   "codemirror_mode": {
    "name": "ipython",
    "version": 3
   },
   "file_extension": ".py",
   "mimetype": "text/x-python",
   "name": "python",
   "nbconvert_exporter": "python",
   "pygments_lexer": "ipython3",
   "version": "3.12.7"
  }
 },
 "nbformat": 4,
 "nbformat_minor": 5
}
